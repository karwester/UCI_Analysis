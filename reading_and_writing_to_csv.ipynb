{
 "cells": [
  {
   "cell_type": "markdown",
   "metadata": {},
   "source": [
    "# UCI Adult Dataset"
   ]
  },
  {
   "cell_type": "markdown",
   "metadata": {},
   "source": [
    "This is my first attempt to use Jupyter notebook and learn some Python while doing an analysis of the UCI dataset:\n",
    "\n",
    "https://archive.ics.uci.edu/ml/datasets/adult\n",
    "\n",
    "I will be following this blog post that does it in R:\n",
    "\n",
    "https://www.kaggle.com/flyingwombat/logistic-regression-with-uci-adult-income\n",
    "\n",
    "I may be using this as additional resource:\n",
    "https://towardsdatascience.com/logistic-regression-using-python-sklearn-numpy-mnist-handwriting-recognition-matplotlib-a6b31e2b166a\n",
    "\n",
    "Using this for reproducibility:\n",
    "https://www.youtube.com/watch?v=J45NJ0pJXWQ"
   ]
  },
  {
   "cell_type": "code",
   "execution_count": 1,
   "metadata": {
    "collapsed": true
   },
   "outputs": [],
   "source": [
    "URL = 'https://archive.ics.uci.edu/ml/machine-learning-databases/adult/adult.data'"
   ]
  },
  {
   "cell_type": "code",
   "execution_count": 2,
   "metadata": {},
   "outputs": [
    {
     "data": {
      "text/plain": [
       "('adult_birth.csv', <http.client.HTTPMessage at 0x1c25dac4978>)"
      ]
     },
     "execution_count": 2,
     "metadata": {},
     "output_type": "execute_result"
    }
   ],
   "source": [
    "from urllib.request import urlretrieve\n",
    "urlretrieve(URL, 'adult_birth.csv')"
   ]
  },
  {
   "cell_type": "markdown",
   "metadata": {},
   "source": [
    "Getting the first 10 rows, to check the file loaded. There are 2 ways to do that:\n",
    "1. Use csv.DictReader (treats values in first row as dictionary keys and values in subsequent rows as dictionary values)\n",
    "2. Use csv.reader\n",
    "3. Use one of the above+ itertools from islice"
   ]
  },
  {
   "cell_type": "markdown",
   "metadata": {
    "collapsed": true
   },
   "source": [
    "This is the most classic, simplest way with an explicit counter"
   ]
  },
  {
   "cell_type": "code",
   "execution_count": 3,
   "metadata": {},
   "outputs": [
    {
     "name": "stdout",
     "output_type": "stream",
     "text": [
      "['39', ' State-gov', ' 77516', ' Bachelors', ' 13', ' Never-married', ' Adm-clerical', ' Not-in-family', ' White', ' Male', ' 2174', ' 0', ' 40', ' United-States', ' <=50K']\n",
      "['50', ' Self-emp-not-inc', ' 83311', ' Bachelors', ' 13', ' Married-civ-spouse', ' Exec-managerial', ' Husband', ' White', ' Male', ' 0', ' 0', ' 13', ' United-States', ' <=50K']\n",
      "['38', ' Private', ' 215646', ' HS-grad', ' 9', ' Divorced', ' Handlers-cleaners', ' Not-in-family', ' White', ' Male', ' 0', ' 0', ' 40', ' United-States', ' <=50K']\n",
      "['53', ' Private', ' 234721', ' 11th', ' 7', ' Married-civ-spouse', ' Handlers-cleaners', ' Husband', ' Black', ' Male', ' 0', ' 0', ' 40', ' United-States', ' <=50K']\n",
      "['28', ' Private', ' 338409', ' Bachelors', ' 13', ' Married-civ-spouse', ' Prof-specialty', ' Wife', ' Black', ' Female', ' 0', ' 0', ' 40', ' Cuba', ' <=50K']\n",
      "['37', ' Private', ' 284582', ' Masters', ' 14', ' Married-civ-spouse', ' Exec-managerial', ' Wife', ' White', ' Female', ' 0', ' 0', ' 40', ' United-States', ' <=50K']\n",
      "['49', ' Private', ' 160187', ' 9th', ' 5', ' Married-spouse-absent', ' Other-service', ' Not-in-family', ' Black', ' Female', ' 0', ' 0', ' 16', ' Jamaica', ' <=50K']\n",
      "['52', ' Self-emp-not-inc', ' 209642', ' HS-grad', ' 9', ' Married-civ-spouse', ' Exec-managerial', ' Husband', ' White', ' Male', ' 0', ' 0', ' 45', ' United-States', ' >50K']\n",
      "['31', ' Private', ' 45781', ' Masters', ' 14', ' Never-married', ' Prof-specialty', ' Not-in-family', ' White', ' Female', ' 14084', ' 0', ' 50', ' United-States', ' >50K']\n",
      "['42', ' Private', ' 159449', ' Bachelors', ' 13', ' Married-civ-spouse', ' Exec-managerial', ' Husband', ' White', ' Male', ' 5178', ' 0', ' 40', ' United-States', ' >50K']\n"
     ]
    }
   ],
   "source": [
    "import csv\n",
    "\n",
    "with open(\"adult_birth.csv\") as f:\n",
    "    reader = csv.reader(f) \n",
    "    i=0\n",
    "    for row in reader: \n",
    "        if i <= 9:\n",
    "            print(row)\n",
    "        i+=1"
   ]
  },
  {
   "cell_type": "code",
   "execution_count": 4,
   "metadata": {},
   "outputs": [
    {
     "name": "stdout",
     "output_type": "stream",
     "text": [
      "['39', ' State-gov', ' 77516', ' Bachelors', ' 13', ' Never-married', ' Adm-clerical', ' Not-in-family', ' White', ' Male', ' 2174', ' 0', ' 40', ' United-States', ' <=50K']\n",
      "['50', ' Self-emp-not-inc', ' 83311', ' Bachelors', ' 13', ' Married-civ-spouse', ' Exec-managerial', ' Husband', ' White', ' Male', ' 0', ' 0', ' 13', ' United-States', ' <=50K']\n",
      "['38', ' Private', ' 215646', ' HS-grad', ' 9', ' Divorced', ' Handlers-cleaners', ' Not-in-family', ' White', ' Male', ' 0', ' 0', ' 40', ' United-States', ' <=50K']\n",
      "['53', ' Private', ' 234721', ' 11th', ' 7', ' Married-civ-spouse', ' Handlers-cleaners', ' Husband', ' Black', ' Male', ' 0', ' 0', ' 40', ' United-States', ' <=50K']\n",
      "['28', ' Private', ' 338409', ' Bachelors', ' 13', ' Married-civ-spouse', ' Prof-specialty', ' Wife', ' Black', ' Female', ' 0', ' 0', ' 40', ' Cuba', ' <=50K']\n",
      "['37', ' Private', ' 284582', ' Masters', ' 14', ' Married-civ-spouse', ' Exec-managerial', ' Wife', ' White', ' Female', ' 0', ' 0', ' 40', ' United-States', ' <=50K']\n",
      "['49', ' Private', ' 160187', ' 9th', ' 5', ' Married-spouse-absent', ' Other-service', ' Not-in-family', ' Black', ' Female', ' 0', ' 0', ' 16', ' Jamaica', ' <=50K']\n",
      "['52', ' Self-emp-not-inc', ' 209642', ' HS-grad', ' 9', ' Married-civ-spouse', ' Exec-managerial', ' Husband', ' White', ' Male', ' 0', ' 0', ' 45', ' United-States', ' >50K']\n",
      "['31', ' Private', ' 45781', ' Masters', ' 14', ' Never-married', ' Prof-specialty', ' Not-in-family', ' White', ' Female', ' 14084', ' 0', ' 50', ' United-States', ' >50K']\n",
      "['42', ' Private', ' 159449', ' Bachelors', ' 13', ' Married-civ-spouse', ' Exec-managerial', ' Husband', ' White', ' Male', ' 5178', ' 0', ' 40', ' United-States', ' >50K']\n"
     ]
    }
   ],
   "source": [
    "import csv\n",
    "\n",
    "with open(\"adult_birth.csv\") as f:\n",
    "    reader = csv.reader(f)  \n",
    "    for i,row in enumerate(reader):\n",
    "        print(row)\n",
    "        if(i >= 9):\n",
    "            break"
   ]
  },
  {
   "cell_type": "code",
   "execution_count": 5,
   "metadata": {},
   "outputs": [
    {
     "name": "stdout",
     "output_type": "stream",
     "text": [
      "OrderedDict([('39', '50'), (' State-gov', ' Self-emp-not-inc'), (' 77516', ' 83311'), (' Bachelors', ' Bachelors'), (' 13', ' 13'), (' Never-married', ' Married-civ-spouse'), (' Adm-clerical', ' Exec-managerial'), (' Not-in-family', ' Husband'), (' White', ' White'), (' Male', ' Male'), (' 2174', ' 0'), (' 0', ' 0'), (' 40', ' 13'), (' United-States', ' United-States'), (' <=50K', ' <=50K')])\n",
      "OrderedDict([('39', '38'), (' State-gov', ' Private'), (' 77516', ' 215646'), (' Bachelors', ' HS-grad'), (' 13', ' 9'), (' Never-married', ' Divorced'), (' Adm-clerical', ' Handlers-cleaners'), (' Not-in-family', ' Not-in-family'), (' White', ' White'), (' Male', ' Male'), (' 2174', ' 0'), (' 0', ' 0'), (' 40', ' 40'), (' United-States', ' United-States'), (' <=50K', ' <=50K')])\n",
      "OrderedDict([('39', '53'), (' State-gov', ' Private'), (' 77516', ' 234721'), (' Bachelors', ' 11th'), (' 13', ' 7'), (' Never-married', ' Married-civ-spouse'), (' Adm-clerical', ' Handlers-cleaners'), (' Not-in-family', ' Husband'), (' White', ' Black'), (' Male', ' Male'), (' 2174', ' 0'), (' 0', ' 0'), (' 40', ' 40'), (' United-States', ' United-States'), (' <=50K', ' <=50K')])\n",
      "OrderedDict([('39', '28'), (' State-gov', ' Private'), (' 77516', ' 338409'), (' Bachelors', ' Bachelors'), (' 13', ' 13'), (' Never-married', ' Married-civ-spouse'), (' Adm-clerical', ' Prof-specialty'), (' Not-in-family', ' Wife'), (' White', ' Black'), (' Male', ' Female'), (' 2174', ' 0'), (' 0', ' 0'), (' 40', ' 40'), (' United-States', ' Cuba'), (' <=50K', ' <=50K')])\n",
      "OrderedDict([('39', '37'), (' State-gov', ' Private'), (' 77516', ' 284582'), (' Bachelors', ' Masters'), (' 13', ' 14'), (' Never-married', ' Married-civ-spouse'), (' Adm-clerical', ' Exec-managerial'), (' Not-in-family', ' Wife'), (' White', ' White'), (' Male', ' Female'), (' 2174', ' 0'), (' 0', ' 0'), (' 40', ' 40'), (' United-States', ' United-States'), (' <=50K', ' <=50K')])\n",
      "OrderedDict([('39', '49'), (' State-gov', ' Private'), (' 77516', ' 160187'), (' Bachelors', ' 9th'), (' 13', ' 5'), (' Never-married', ' Married-spouse-absent'), (' Adm-clerical', ' Other-service'), (' Not-in-family', ' Not-in-family'), (' White', ' Black'), (' Male', ' Female'), (' 2174', ' 0'), (' 0', ' 0'), (' 40', ' 16'), (' United-States', ' Jamaica'), (' <=50K', ' <=50K')])\n",
      "OrderedDict([('39', '52'), (' State-gov', ' Self-emp-not-inc'), (' 77516', ' 209642'), (' Bachelors', ' HS-grad'), (' 13', ' 9'), (' Never-married', ' Married-civ-spouse'), (' Adm-clerical', ' Exec-managerial'), (' Not-in-family', ' Husband'), (' White', ' White'), (' Male', ' Male'), (' 2174', ' 0'), (' 0', ' 0'), (' 40', ' 45'), (' United-States', ' United-States'), (' <=50K', ' >50K')])\n",
      "OrderedDict([('39', '31'), (' State-gov', ' Private'), (' 77516', ' 45781'), (' Bachelors', ' Masters'), (' 13', ' 14'), (' Never-married', ' Never-married'), (' Adm-clerical', ' Prof-specialty'), (' Not-in-family', ' Not-in-family'), (' White', ' White'), (' Male', ' Female'), (' 2174', ' 14084'), (' 0', ' 0'), (' 40', ' 50'), (' United-States', ' United-States'), (' <=50K', ' >50K')])\n",
      "OrderedDict([('39', '42'), (' State-gov', ' Private'), (' 77516', ' 159449'), (' Bachelors', ' Bachelors'), (' 13', ' 13'), (' Never-married', ' Married-civ-spouse'), (' Adm-clerical', ' Exec-managerial'), (' Not-in-family', ' Husband'), (' White', ' White'), (' Male', ' Male'), (' 2174', ' 5178'), (' 0', ' 0'), (' 40', ' 40'), (' United-States', ' United-States'), (' <=50K', ' >50K')])\n",
      "OrderedDict([('39', '37'), (' State-gov', ' Private'), (' 77516', ' 280464'), (' Bachelors', ' Some-college'), (' 13', ' 10'), (' Never-married', ' Married-civ-spouse'), (' Adm-clerical', ' Exec-managerial'), (' Not-in-family', ' Husband'), (' White', ' Black'), (' Male', ' Male'), (' 2174', ' 0'), (' 0', ' 0'), (' 40', ' 80'), (' United-States', ' United-States'), (' <=50K', ' >50K')])\n"
     ]
    }
   ],
   "source": [
    "import csv\n",
    "\n",
    "with open(\"adult_birth.csv\") as f:\n",
    "    reader = csv.DictReader(f)  \n",
    "    for i,row in enumerate(reader):\n",
    "        print(row)\n",
    "        if(i >= 9):\n",
    "            break\n",
    "            \n",
    "#shorter code with a while loop:            \n",
    "            \n",
    "import csv\n",
    "\n",
    "with open(\"adult_birth.csv\") as f:\n",
    "    reader = csv.DictReader(f)  \n",
    "    while (i in enumerate(reader)<=9):\n",
    "        print(row)\n",
    "                 \n",
    "   "
   ]
  },
  {
   "cell_type": "markdown",
   "metadata": {
    "collapsed": true
   },
   "source": [
    "One more option is to use itertools from islice"
   ]
  },
  {
   "cell_type": "code",
   "execution_count": 6,
   "metadata": {},
   "outputs": [
    {
     "name": "stdout",
     "output_type": "stream",
     "text": [
      "OrderedDict([('39', '50'), (' State-gov', ' Self-emp-not-inc'), (' 77516', ' 83311'), (' Bachelors', ' Bachelors'), (' 13', ' 13'), (' Never-married', ' Married-civ-spouse'), (' Adm-clerical', ' Exec-managerial'), (' Not-in-family', ' Husband'), (' White', ' White'), (' Male', ' Male'), (' 2174', ' 0'), (' 0', ' 0'), (' 40', ' 13'), (' United-States', ' United-States'), (' <=50K', ' <=50K')])\n",
      "OrderedDict([('39', '38'), (' State-gov', ' Private'), (' 77516', ' 215646'), (' Bachelors', ' HS-grad'), (' 13', ' 9'), (' Never-married', ' Divorced'), (' Adm-clerical', ' Handlers-cleaners'), (' Not-in-family', ' Not-in-family'), (' White', ' White'), (' Male', ' Male'), (' 2174', ' 0'), (' 0', ' 0'), (' 40', ' 40'), (' United-States', ' United-States'), (' <=50K', ' <=50K')])\n",
      "OrderedDict([('39', '53'), (' State-gov', ' Private'), (' 77516', ' 234721'), (' Bachelors', ' 11th'), (' 13', ' 7'), (' Never-married', ' Married-civ-spouse'), (' Adm-clerical', ' Handlers-cleaners'), (' Not-in-family', ' Husband'), (' White', ' Black'), (' Male', ' Male'), (' 2174', ' 0'), (' 0', ' 0'), (' 40', ' 40'), (' United-States', ' United-States'), (' <=50K', ' <=50K')])\n",
      "OrderedDict([('39', '28'), (' State-gov', ' Private'), (' 77516', ' 338409'), (' Bachelors', ' Bachelors'), (' 13', ' 13'), (' Never-married', ' Married-civ-spouse'), (' Adm-clerical', ' Prof-specialty'), (' Not-in-family', ' Wife'), (' White', ' Black'), (' Male', ' Female'), (' 2174', ' 0'), (' 0', ' 0'), (' 40', ' 40'), (' United-States', ' Cuba'), (' <=50K', ' <=50K')])\n",
      "OrderedDict([('39', '37'), (' State-gov', ' Private'), (' 77516', ' 284582'), (' Bachelors', ' Masters'), (' 13', ' 14'), (' Never-married', ' Married-civ-spouse'), (' Adm-clerical', ' Exec-managerial'), (' Not-in-family', ' Wife'), (' White', ' White'), (' Male', ' Female'), (' 2174', ' 0'), (' 0', ' 0'), (' 40', ' 40'), (' United-States', ' United-States'), (' <=50K', ' <=50K')])\n",
      "OrderedDict([('39', '49'), (' State-gov', ' Private'), (' 77516', ' 160187'), (' Bachelors', ' 9th'), (' 13', ' 5'), (' Never-married', ' Married-spouse-absent'), (' Adm-clerical', ' Other-service'), (' Not-in-family', ' Not-in-family'), (' White', ' Black'), (' Male', ' Female'), (' 2174', ' 0'), (' 0', ' 0'), (' 40', ' 16'), (' United-States', ' Jamaica'), (' <=50K', ' <=50K')])\n",
      "OrderedDict([('39', '52'), (' State-gov', ' Self-emp-not-inc'), (' 77516', ' 209642'), (' Bachelors', ' HS-grad'), (' 13', ' 9'), (' Never-married', ' Married-civ-spouse'), (' Adm-clerical', ' Exec-managerial'), (' Not-in-family', ' Husband'), (' White', ' White'), (' Male', ' Male'), (' 2174', ' 0'), (' 0', ' 0'), (' 40', ' 45'), (' United-States', ' United-States'), (' <=50K', ' >50K')])\n",
      "OrderedDict([('39', '31'), (' State-gov', ' Private'), (' 77516', ' 45781'), (' Bachelors', ' Masters'), (' 13', ' 14'), (' Never-married', ' Never-married'), (' Adm-clerical', ' Prof-specialty'), (' Not-in-family', ' Not-in-family'), (' White', ' White'), (' Male', ' Female'), (' 2174', ' 14084'), (' 0', ' 0'), (' 40', ' 50'), (' United-States', ' United-States'), (' <=50K', ' >50K')])\n",
      "OrderedDict([('39', '42'), (' State-gov', ' Private'), (' 77516', ' 159449'), (' Bachelors', ' Bachelors'), (' 13', ' 13'), (' Never-married', ' Married-civ-spouse'), (' Adm-clerical', ' Exec-managerial'), (' Not-in-family', ' Husband'), (' White', ' White'), (' Male', ' Male'), (' 2174', ' 5178'), (' 0', ' 0'), (' 40', ' 40'), (' United-States', ' United-States'), (' <=50K', ' >50K')])\n",
      "OrderedDict([('39', '37'), (' State-gov', ' Private'), (' 77516', ' 280464'), (' Bachelors', ' Some-college'), (' 13', ' 10'), (' Never-married', ' Married-civ-spouse'), (' Adm-clerical', ' Exec-managerial'), (' Not-in-family', ' Husband'), (' White', ' Black'), (' Male', ' Male'), (' 2174', ' 0'), (' 0', ' 0'), (' 40', ' 80'), (' United-States', ' United-States'), (' <=50K', ' >50K')])\n"
     ]
    }
   ],
   "source": [
    "import csv\n",
    "from itertools import islice\n",
    "\n",
    "with open('adult_birth.csv') as f:\n",
    "    reader = csv.DictReader(f)\n",
    "    for row in islice(reader, 10): # first 10 only\n",
    "        print(row)"
   ]
  },
  {
   "cell_type": "code",
   "execution_count": 7,
   "metadata": {},
   "outputs": [
    {
     "name": "stdout",
     "output_type": "stream",
     "text": [
      "['39', ' State-gov', ' 77516', ' Bachelors', ' 13', ' Never-married', ' Adm-clerical', ' Not-in-family', ' White', ' Male', ' 2174', ' 0', ' 40', ' United-States', ' <=50K']\n"
     ]
    }
   ],
   "source": [
    "import csv\n",
    "\n",
    "with open(\"adult_birth.csv\") as f:\n",
    "    reader = csv.reader(f) \n",
    "    csv_headings = next(reader)\n",
    "    print(csv_headings)"
   ]
  },
  {
   "cell_type": "markdown",
   "metadata": {},
   "source": [
    "\"next\" method retreives next item\n",
    "\n",
    "My csv doesn't have headings, let's fix that.\n",
    "\n",
    "https://www.blog.pythonlibrary.org/2014/02/26/python-101-reading-and-writing-csv-files/\n",
    "\n",
    "\n"
   ]
  },
  {
   "cell_type": "code",
   "execution_count": 8,
   "metadata": {},
   "outputs": [],
   "source": [
    "#It is difficult to insert a line on top, a line at the end is easy with appent, for top line it's best to \n",
    "#read file first, save it, and then write the new line, and write the file\n",
    "\n",
    "\n",
    "#create a test csv for playing\n",
    "import csv\n",
    " \n",
    "with open('test.csv', 'w') as csvfile:\n",
    "    filewriter = csv.writer(csvfile)\n",
    "    filewriter.writerow(['Name', 'Age'])\n",
    "    filewriter.writerow(['Derek', '25'])\n",
    "    filewriter.writerow(['Steve', '30'])\n",
    "    filewriter.writerow(['Paul', '7'])"
   ]
  },
  {
   "cell_type": "code",
   "execution_count": 9,
   "metadata": {},
   "outputs": [
    {
     "name": "stdout",
     "output_type": "stream",
     "text": [
      "['Name', 'Age']\n"
     ]
    }
   ],
   "source": [
    "#checking the file can be reAD\n",
    "with open('test.csv') as f:\n",
    "    reader = csv.reader(f) \n",
    "    csv_headings = next(reader)\n",
    "    print(csv_headings)\n"
   ]
  },
  {
   "cell_type": "code",
   "execution_count": 10,
   "metadata": {},
   "outputs": [],
   "source": [
    "#reading the file and saving\n",
    "#writing the new row and then writing the old file \n",
    "header_row_test = ['age', 'workclass']\n",
    "import csv\n",
    "with open('test.csv',newline='') as f:\n",
    "    r = csv.reader(f)\n",
    "    data = [line for line in r]\n",
    "with open('test.csv','w',newline='') as f:\n",
    "    w = csv.writer(f)\n",
    "    w.writerow(header_row_test)\n",
    "    w.writerows(data)"
   ]
  },
  {
   "cell_type": "code",
   "execution_count": 11,
   "metadata": {},
   "outputs": [
    {
     "name": "stdout",
     "output_type": "stream",
     "text": [
      "['age', 'workclass']\n",
      "['Name', 'Age']\n"
     ]
    }
   ],
   "source": [
    "with open('test.csv') as f:\n",
    "    reader = csv.reader(f) \n",
    "    csv_headings = next(reader)\n",
    "    csv_headings1 = next(reader)\n",
    "    print(csv_headings)\n",
    "    print(csv_headings1)"
   ]
  },
  {
   "cell_type": "code",
   "execution_count": 12,
   "metadata": {},
   "outputs": [],
   "source": [
    "\n",
    "from pandas import read_csv\n",
    "df = read_csv('test.csv')\n",
    "df.columns = ['a', 'b']\n",
    "df.to_csv('test_2.csv')"
   ]
  },
  {
   "cell_type": "code",
   "execution_count": 13,
   "metadata": {
    "scrolled": true
   },
   "outputs": [
    {
     "data": {
      "text/html": [
       "<div>\n",
       "<style>\n",
       "    .dataframe thead tr:only-child th {\n",
       "        text-align: right;\n",
       "    }\n",
       "\n",
       "    .dataframe thead th {\n",
       "        text-align: left;\n",
       "    }\n",
       "\n",
       "    .dataframe tbody tr th {\n",
       "        vertical-align: top;\n",
       "    }\n",
       "</style>\n",
       "<table border=\"1\" class=\"dataframe\">\n",
       "  <thead>\n",
       "    <tr style=\"text-align: right;\">\n",
       "      <th></th>\n",
       "      <th>a</th>\n",
       "      <th>b</th>\n",
       "    </tr>\n",
       "  </thead>\n",
       "  <tbody>\n",
       "    <tr>\n",
       "      <th>0</th>\n",
       "      <td>Name</td>\n",
       "      <td>Age</td>\n",
       "    </tr>\n",
       "    <tr>\n",
       "      <th>1</th>\n",
       "      <td>Derek</td>\n",
       "      <td>25</td>\n",
       "    </tr>\n",
       "    <tr>\n",
       "      <th>2</th>\n",
       "      <td>Steve</td>\n",
       "      <td>30</td>\n",
       "    </tr>\n",
       "    <tr>\n",
       "      <th>3</th>\n",
       "      <td>Paul</td>\n",
       "      <td>7</td>\n",
       "    </tr>\n",
       "  </tbody>\n",
       "</table>\n",
       "</div>"
      ],
      "text/plain": [
       "       a    b\n",
       "0   Name  Age\n",
       "1  Derek   25\n",
       "2  Steve   30\n",
       "3   Paul    7"
      ]
     },
     "execution_count": 13,
     "metadata": {},
     "output_type": "execute_result"
    }
   ],
   "source": [
    "df.head()"
   ]
  },
  {
   "cell_type": "code",
   "execution_count": 14,
   "metadata": {},
   "outputs": [
    {
     "data": {
      "text/html": [
       "<div>\n",
       "<style>\n",
       "    .dataframe thead tr:only-child th {\n",
       "        text-align: right;\n",
       "    }\n",
       "\n",
       "    .dataframe thead th {\n",
       "        text-align: left;\n",
       "    }\n",
       "\n",
       "    .dataframe tbody tr th {\n",
       "        vertical-align: top;\n",
       "    }\n",
       "</style>\n",
       "<table border=\"1\" class=\"dataframe\">\n",
       "  <thead>\n",
       "    <tr style=\"text-align: right;\">\n",
       "      <th></th>\n",
       "      <th>age</th>\n",
       "      <th>workclass</th>\n",
       "      <th>fnlwgt</th>\n",
       "      <th>education</th>\n",
       "      <th>education-num</th>\n",
       "      <th>marital-status</th>\n",
       "      <th>occupation</th>\n",
       "      <th>inspct</th>\n",
       "      <th>relationship</th>\n",
       "      <th>race</th>\n",
       "      <th>sex</th>\n",
       "      <th>capital-gain</th>\n",
       "      <th>capital-loss</th>\n",
       "      <th>hours-per-week</th>\n",
       "      <th>native-country</th>\n",
       "    </tr>\n",
       "  </thead>\n",
       "  <tbody>\n",
       "    <tr>\n",
       "      <th>0</th>\n",
       "      <td>50</td>\n",
       "      <td>Self-emp-not-inc</td>\n",
       "      <td>83311</td>\n",
       "      <td>Bachelors</td>\n",
       "      <td>13</td>\n",
       "      <td>Married-civ-spouse</td>\n",
       "      <td>Exec-managerial</td>\n",
       "      <td>Husband</td>\n",
       "      <td>White</td>\n",
       "      <td>Male</td>\n",
       "      <td>0</td>\n",
       "      <td>0</td>\n",
       "      <td>13</td>\n",
       "      <td>United-States</td>\n",
       "      <td>&lt;=50K</td>\n",
       "    </tr>\n",
       "    <tr>\n",
       "      <th>1</th>\n",
       "      <td>38</td>\n",
       "      <td>Private</td>\n",
       "      <td>215646</td>\n",
       "      <td>HS-grad</td>\n",
       "      <td>9</td>\n",
       "      <td>Divorced</td>\n",
       "      <td>Handlers-cleaners</td>\n",
       "      <td>Not-in-family</td>\n",
       "      <td>White</td>\n",
       "      <td>Male</td>\n",
       "      <td>0</td>\n",
       "      <td>0</td>\n",
       "      <td>40</td>\n",
       "      <td>United-States</td>\n",
       "      <td>&lt;=50K</td>\n",
       "    </tr>\n",
       "    <tr>\n",
       "      <th>2</th>\n",
       "      <td>53</td>\n",
       "      <td>Private</td>\n",
       "      <td>234721</td>\n",
       "      <td>11th</td>\n",
       "      <td>7</td>\n",
       "      <td>Married-civ-spouse</td>\n",
       "      <td>Handlers-cleaners</td>\n",
       "      <td>Husband</td>\n",
       "      <td>Black</td>\n",
       "      <td>Male</td>\n",
       "      <td>0</td>\n",
       "      <td>0</td>\n",
       "      <td>40</td>\n",
       "      <td>United-States</td>\n",
       "      <td>&lt;=50K</td>\n",
       "    </tr>\n",
       "    <tr>\n",
       "      <th>3</th>\n",
       "      <td>28</td>\n",
       "      <td>Private</td>\n",
       "      <td>338409</td>\n",
       "      <td>Bachelors</td>\n",
       "      <td>13</td>\n",
       "      <td>Married-civ-spouse</td>\n",
       "      <td>Prof-specialty</td>\n",
       "      <td>Wife</td>\n",
       "      <td>Black</td>\n",
       "      <td>Female</td>\n",
       "      <td>0</td>\n",
       "      <td>0</td>\n",
       "      <td>40</td>\n",
       "      <td>Cuba</td>\n",
       "      <td>&lt;=50K</td>\n",
       "    </tr>\n",
       "    <tr>\n",
       "      <th>4</th>\n",
       "      <td>37</td>\n",
       "      <td>Private</td>\n",
       "      <td>284582</td>\n",
       "      <td>Masters</td>\n",
       "      <td>14</td>\n",
       "      <td>Married-civ-spouse</td>\n",
       "      <td>Exec-managerial</td>\n",
       "      <td>Wife</td>\n",
       "      <td>White</td>\n",
       "      <td>Female</td>\n",
       "      <td>0</td>\n",
       "      <td>0</td>\n",
       "      <td>40</td>\n",
       "      <td>United-States</td>\n",
       "      <td>&lt;=50K</td>\n",
       "    </tr>\n",
       "  </tbody>\n",
       "</table>\n",
       "</div>"
      ],
      "text/plain": [
       "   age          workclass  fnlwgt   education  education-num  \\\n",
       "0   50   Self-emp-not-inc   83311   Bachelors             13   \n",
       "1   38            Private  215646     HS-grad              9   \n",
       "2   53            Private  234721        11th              7   \n",
       "3   28            Private  338409   Bachelors             13   \n",
       "4   37            Private  284582     Masters             14   \n",
       "\n",
       "        marital-status          occupation          inspct relationship  \\\n",
       "0   Married-civ-spouse     Exec-managerial         Husband        White   \n",
       "1             Divorced   Handlers-cleaners   Not-in-family        White   \n",
       "2   Married-civ-spouse   Handlers-cleaners         Husband        Black   \n",
       "3   Married-civ-spouse      Prof-specialty            Wife        Black   \n",
       "4   Married-civ-spouse     Exec-managerial            Wife        White   \n",
       "\n",
       "      race  sex  capital-gain  capital-loss  hours-per-week native-country  \n",
       "0     Male    0             0            13   United-States          <=50K  \n",
       "1     Male    0             0            40   United-States          <=50K  \n",
       "2     Male    0             0            40   United-States          <=50K  \n",
       "3   Female    0             0            40            Cuba          <=50K  \n",
       "4   Female    0             0            40   United-States          <=50K  "
      ]
     },
     "execution_count": 14,
     "metadata": {},
     "output_type": "execute_result"
    }
   ],
   "source": [
    "#pandas makes it much easier, so let's do it with pandas for the real file\n",
    "from pandas import read_csv\n",
    "df = read_csv('adult_birth.csv')\n",
    "df.columns = ['age', 'workclass', 'fnlwgt', 'education', 'education-num', 'marital-status', 'occupation', 'inspct', 'relationship', 'race', 'sex', 'capital-gain', 'capital-loss', 'hours-per-week', 'native-country']\n",
    "df.to_csv('adult_birth_h.csv')\n",
    "df.head()"
   ]
  },
  {
   "cell_type": "markdown",
   "metadata": {},
   "source": [
    "Great I have the file in the right format with headings and as data frame.\n",
    "Here is a useful blog post: http://beancoder.com/csv-files-using-python/"
   ]
  }
 ],
 "metadata": {
  "kernelspec": {
   "display_name": "Python 3",
   "language": "python",
   "name": "python3"
  },
  "language_info": {
   "codemirror_mode": {
    "name": "ipython",
    "version": 3
   },
   "file_extension": ".py",
   "mimetype": "text/x-python",
   "name": "python",
   "nbconvert_exporter": "python",
   "pygments_lexer": "ipython3",
   "version": "3.6.3"
  }
 },
 "nbformat": 4,
 "nbformat_minor": 2
}
